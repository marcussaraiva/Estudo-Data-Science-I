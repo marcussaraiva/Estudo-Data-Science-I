{
  "nbformat": 4,
  "nbformat_minor": 0,
  "metadata": {
    "colab": {
      "name": "Casos de Feminicidio.ipynb",
      "provenance": [],
      "collapsed_sections": []
    },
    "kernelspec": {
      "name": "python3",
      "display_name": "Python 3"
    },
    "language_info": {
      "name": "python"
    }
  },
  "cells": [
    {
      "cell_type": "markdown",
      "metadata": {
        "id": "v692WXWC_JrN"
      },
      "source": [
        "**CASOS DE FEMINICÍDIO**\n",
        "\n",
        "- Objetivos\n",
        "  - Tribunal que mais atendeu casos\n",
        "  - Quantos ja tinham histórico de violência domentica\n",
        "  - Qual foi o meio mais utilizado\n",
        "  - Período dos fatos\n",
        "  - Qual instumento mais utilizado"
      ]
    },
    {
      "cell_type": "markdown",
      "metadata": {
        "id": "GO8LnQ9TAkb7"
      },
      "source": [
        "**Importar o Pandas e ler o arquivo**"
      ]
    },
    {
      "cell_type": "code",
      "metadata": {
        "id": "XbiZvBLZ-0Fn"
      },
      "source": [
        "import pandas as pd\n",
        "df = pd.read_excel('/content/drive/MyDrive/Casos de Feminicídio/bancocasos-feminicidio.xls')\n",
        "\n",
        "# display(df)"
      ],
      "execution_count": null,
      "outputs": []
    },
    {
      "cell_type": "markdown",
      "metadata": {
        "id": "hbl2vxdSDqnV"
      },
      "source": [
        "**Eliminando colunas desnecessárias**"
      ]
    },
    {
      "cell_type": "code",
      "metadata": {
        "id": "fSvyAhnRDwkz"
      },
      "source": [
        "df = df.drop(columns=['Número do processo',\n",
        "                      'Crime na pronúncia',\n",
        "                      'Crime na sentença', \n",
        "                      'Pena inicial', 'Pena após recurso', \n",
        "                      'Apelo ao sistema de justiça', \n",
        "                      'Menção à LMP (momento processual)'])\n",
        "# display(df)"
      ],
      "execution_count": null,
      "outputs": []
    },
    {
      "cell_type": "markdown",
      "metadata": {
        "id": "U_5ojv7BXzxX"
      },
      "source": [
        "**Filtrar dados e realizar agrupamentos**\n",
        "\n",
        "  **Tribunal que mais atendeu casos**"
      ]
    },
    {
      "cell_type": "code",
      "metadata": {
        "colab": {
          "base_uri": "https://localhost:8080/",
          "height": 312
        },
        "id": "q5QRPLtRYFds",
        "outputId": "c244512d-5436-4b41-ff95-095099b4eaef"
      },
      "source": [
        "import seaborn as sns\n",
        "palette = sns.color_palette(\"dark:salmon_r\")\n",
        "order = df['Tribunal'].value_counts(ascending=True).index\n",
        "plot = sns.countplot(x='Tribunal', data=df, palette=palette, order=order)\n",
        "plot.set_title('Casos por Tribunal')\n",
        "plot.set_ylabel('Quantidade de Casos')"
      ],
      "execution_count": null,
      "outputs": [
        {
          "output_type": "execute_result",
          "data": {
            "text/plain": [
              "Text(0, 0.5, 'Quantidade de Casos')"
            ]
          },
          "metadata": {
            "tags": []
          },
          "execution_count": 11
        },
        {
          "output_type": "display_data",
          "data": {
            "image/png": "[encoded data removed]",
            "text/plain": [
              "<Figure size 432x288 with 1 Axes>"
            ]
          },
          "metadata": {
            "tags": [],
            "needs_background": "light"
          }
        }
      ]
    },
    {
      "cell_type": "markdown",
      "metadata": {
        "id": "Fia35TACzSCJ"
      },
      "source": [
        "**Quantos ja tinham histórico de violência domentica**"
      ]
    },
    {
      "cell_type": "code",
      "metadata": {
        "colab": {
          "base_uri": "https://localhost:8080/",
          "height": 469
        },
        "id": "o10N83UEzVWv",
        "outputId": "6752971f-8a02-4662-ee46-8c3d779036ff"
      },
      "source": [
        "import regex\n",
        "import matplotlib.pyplot as plt\n",
        "\n",
        "com_historico = (df.loc[df['Histórico de Violência Doméstica'].str.contains('Sim')])\n",
        "com_historico_aux = (df.loc[df['Histórico de Violência Doméstica'].str.contains('sim')])\n",
        "com_historico_aux2 = (df.loc[df['Histórico de Violência Doméstica'].str.startswith('Trata-se')])\n",
        "\n",
        "com_historico.loc[com_historico['Histórico de Violência Doméstica'] != 'Sim', 'Histórico de Violência Doméstica'] = 'sim'\n",
        "com_historico.loc[com_historico['Histórico de Violência Doméstica'] == 'Sim', 'Histórico de Violência Doméstica'] = 'sim'\n",
        "com_historico_aux.loc[com_historico_aux['Histórico de Violência Doméstica'] != 'sim', 'Histórico de Violência Doméstica'] = 'sim'\n",
        "com_historico_aux2.loc[com_historico_aux2['Histórico de Violência Doméstica'] != 'Trata-se', 'Histórico de Violência Doméstica'] = 'sim'\n",
        "\n",
        "com_historico_uniao = pd.merge(com_historico, com_historico_aux, how='outer')\n",
        "com_historico_definitivo = pd.merge(com_historico_uniao, com_historico_aux2, how='outer')\n",
        "\n",
        "\n",
        "sem_historico = df.loc[df['Histórico de Violência Doméstica'].str.startswith('não')]\n",
        "sem_historico_aux = df.loc[df['Histórico de Violência Doméstica'].str.contains('Não')]\n",
        "sem_historico_aux2 = df.loc[df['Histórico de Violência Doméstica'].str.contains('sem')]\n",
        "\n",
        "sem_historico.loc[sem_historico['Histórico de Violência Doméstica'] != 'não', 'Histórico de Violência Doméstica'] = 'não'\n",
        "sem_historico_aux.loc[sem_historico_aux['Histórico de Violência Doméstica'] != 'Não', 'Histórico de Violência Doméstica'] = 'não'\n",
        "sem_historico_aux2.loc[sem_historico_aux2['Histórico de Violência Doméstica'] != 'sem', 'Histórico de Violência Doméstica'] = 'não'\n",
        "\n",
        "sem_historico_uniao = pd.merge(sem_historico, sem_historico_aux, how='outer')\n",
        "sem_historico_definitivo = pd.merge(sem_historico_uniao, sem_historico_aux2, how='outer')\n",
        "\n",
        "\n",
        "sem_historico_definitivo = sem_historico_definitivo.drop(columns=['N.',\n",
        "                                            'Tribunal',\n",
        "                                            'Instrumento',\n",
        "                                            'Meio',\n",
        "                                            'Data dos fatos',\n",
        "                                            'Discurso sobre a vítima',\n",
        "                                            'Discurso sobre o agressor',\n",
        "                                            'Motivo do Crime',\n",
        "                                            'Discurso de gênero (momento processual)'])\n",
        "com_historico_definitivo = com_historico_definitivo.drop(columns=['N.',\n",
        "                                            'Tribunal',\n",
        "                                            'Instrumento',\n",
        "                                            'Meio',\n",
        "                                            'Data dos fatos',\n",
        "                                            'Discurso sobre a vítima',\n",
        "                                            'Discurso sobre o agressor',\n",
        "                                            'Motivo do Crime',\n",
        "                                            'Discurso de gênero (momento processual)'])\n",
        "\n",
        "historico = pd.merge(com_historico_definitivo, sem_historico_definitivo, how='outer')\n",
        "\n",
        "plt.figure(figsize=(4,5))\n",
        "plot = sns.countplot(x='Histórico de Violência Doméstica', data=historico, palette=palette)\n",
        "for i in plot.patches:\n",
        "  plot.annotate(i.get_height(),\n",
        "                (i.get_x() + i.get_width() / 2, i.get_height()),\n",
        "                ha='center',\n",
        "                va='baseline',\n",
        "                fontsize=12,\n",
        "                color='black',\n",
        "                xytext=(0,1),\n",
        "                textcoords='offset points')\n",
        "plot.set_title('Histórico de Violência Doméstica')\n",
        "plot.set_ylabel('Quantidade de Casos')"
      ],
      "execution_count": null,
      "outputs": [
        {
          "output_type": "stream",
          "text": [
            "/usr/local/lib/python3.7/dist-packages/pandas/core/indexing.py:1763: SettingWithCopyWarning: \n",
            "A value is trying to be set on a copy of a slice from a DataFrame.\n",
            "Try using .loc[row_indexer,col_indexer] = value instead\n",
            "\n",
            "See the caveats in the documentation: https://pandas.pydata.org/pandas-docs/stable/user_guide/indexing.html#returning-a-view-versus-a-copy\n",
            "  isetter(loc, value)\n"
          ],
          "name": "stderr"
        },
        {
          "output_type": "execute_result",
          "data": {
            "text/plain": [
              "Text(0, 0.5, 'Quantidade de Casos')"
            ]
          },
          "metadata": {
            "tags": []
          },
          "execution_count": 12
        },
        {
          "output_type": "display_data",
          "data": {
            "image/png": "[encoded data removed]",
            "text/plain": [
              "<Figure size 288x360 with 1 Axes>"
            ]
          },
          "metadata": {
            "tags": [],
            "needs_background": "light"
          }
        }
      ]
    },
    {
      "cell_type": "markdown",
      "metadata": {
        "id": "Js5tDrhWS-hj"
      },
      "source": [
        "**Qual foi o meio mais utilizado**"
      ]
    },
    {
      "cell_type": "code",
      "metadata": {
        "id": "aiU8JZqdxSRJ"
      },
      "source": [
        "df.insert(4, 'Meio 1', '')\n",
        "df.insert(5, 'Meio 2', '')"
      ],
      "execution_count": null,
      "outputs": []
    },
    {
      "cell_type": "code",
      "metadata": {
        "colab": {
          "base_uri": "https://localhost:8080/",
          "height": 571
        },
        "id": "b6ikz2EBTFhj",
        "outputId": "b464e72f-8374-4fe0-cdc5-0ec635bfa4f5"
      },
      "source": [
        "# disparos, tiros\n",
        "disparo = (df.loc[df['Meio'].str.contains('disparo')])\n",
        "disparo.loc[disparo['Meio'] != 'disparo', 'Meio'] = 'Tiro'\n",
        "\n",
        "tiro = df.loc[df['Meio'].str.contains('tiros')]\n",
        "tiro.loc[tiro['Meio'] != 'tiro', 'Meio'] = 'Tiro'\n",
        "\n",
        "total_disparo = pd.merge(tiro, disparo, how='outer')\n",
        "# display(total_disparo['Meio'])\n",
        "\n",
        "\n",
        "# faca, facada, esfaqueamento, \"canivere\"\n",
        "faca = df.loc[df['Meio'].str.contains('faca')]\n",
        "faca_aux = df.loc[df['Meio'].str.contains('Faca')]\n",
        "\n",
        "golpe_faca = df.loc[[20,21]]\n",
        "golpe_faca.loc[golpe_faca['Meio'] != 'facada', 'Meio'] = 'Facada'\n",
        "\n",
        "df.loc[7, 'Meio'] = 'Facada'\n",
        "df.loc[7, 'Meio 1'] = 'Agressão'\n",
        "\n",
        "canivete = (df.loc[df['Meio'].str.contains('caniv')])\n",
        "canivete.loc[canivete['Meio'] != 'facada', 'Meio'] = 'Facada'\n",
        "\n",
        "\n",
        "faca.loc[faca['Meio'] != 'faca', 'Meio'] = 'Facada'\n",
        "\n",
        "facada_aux = pd.merge(faca, faca_aux, how='outer')\n",
        "# facada = pd.merge(canivete, facada_aux, how='outer')\n",
        "# total_facada = pd.merge(facada, golpe_faca, how='outer')\n",
        "# display(total_facada['Meio'])\n",
        "\n",
        "\n",
        "# espancamento, golpes*\n",
        "agressao = (df.loc[df['Meio'].str.contains('Agressão')])\n",
        "agressao_meio1 = (df.loc[df['Meio 1'].str.contains('Agressão')])\n",
        "\n",
        "df.loc[0, 'Meio'] = 'Agressão'\n",
        "df.loc[10, 'Meio'] = 'Agressão'\n",
        "df.loc[10, 'Meio 1'] = 'Esganamento'\n",
        "df.loc[10, 'Meio 2'] = 'Soda caustica'\n",
        " \n",
        "golpe = (df.loc[df['Meio'].str.contains('golpe')])\n",
        "golpe_sem_faca = (golpe.loc[golpe['Meio'].str.contains('faca')==False])\n",
        "golpe_sem_faca = golpe_sem_faca.drop(index=25)\n",
        "golpe_sem_faca = golpe_sem_faca.drop(index=20)\n",
        "golpe_sem_faca = golpe_sem_faca.drop(index=21)\n",
        "# display(golpe_sem_faca['Meio'])\n",
        "\n",
        "df.loc[31, 'Meio'] = 'Sedação'\n",
        "df.loc[31, 'Meio 1'] = 'Agressão'\n",
        "df.loc[31, 'Meio 2'] = 'Tortura'\n",
        "golpe_sem_faca.loc[golpe_sem_faca['Meio'] != 'agressão', 'Meio'] = 'Agressão' \n",
        "agressao_aux = pd.merge(agressao, golpe_sem_faca, how='outer')\n",
        "total_agressao = pd.merge(agressao_aux, agressao_meio1, how='outer')\n",
        "# display(agressao_total['Meio'])\n",
        "\n",
        "\n",
        "# asfixia, esganamento, enforcamento, afogamento\n",
        "asfixia = df.loc[df['Meio'].str.contains('asfixia')]\n",
        "esganamento = df.loc[df['Meio 1'].str.contains('Esganamento')]\n",
        "\n",
        "asfixias = pd.merge(asfixia, esganamento, how='outer')\n",
        "\n",
        "df.loc[13, 'Meio'] = 'asfixia'\n",
        "df.loc[13, 'Meio 1'] = 'afogamento'\n",
        "\n",
        "asfixias.loc[0, 'Meio'] = 'Asfixias'\n",
        "asfixias.loc[0, 'Meio 1'] = 'Asfixias'\n",
        "asfixias.loc[1, 'Meio 1'] = 'Asfixias'\n",
        "# display(asfixias)\n",
        "\n",
        "\n",
        "# envenenamento, soda, asrsênico, diazepan, Sedação 3\n",
        "# Arsênico é \"instrumento\" e envenenamento o meio\n",
        "# Meio 2 -> soda caustica\n",
        "df.loc[29, 'Meio'] = 'Envenenamento'\n",
        "df.loc[29, 'Instrumento'] = 'Arsênico'\n",
        "df.loc[10, 'Meio 2'] = 'Envenenamento'\n",
        "\n",
        "envenenamento = df.loc[df['Meio'].str.contains('Envenenamento')]\n",
        "sedacao = df.loc[df['Meio'].str.contains('Sedação')]\n",
        "sedacao.loc[31, 'Meio'] = 'Envenenamento'\n",
        "envenenamento_aux = df.loc[df['Meio 2'].str.contains('Envenenamento')]\n",
        "\n",
        "envenenamento_aux2 = pd.merge(envenenamento, sedacao, how='outer')\n",
        "total_envenenamento = pd.merge(envenenamento_aux2, envenenamento_aux, how='outer')\n",
        "# display(total_envenenamento)\n",
        "\n",
        "\n",
        "# tortura\n",
        "tortura = df.loc[df['Meio 2'].str.contains('Tortura')]\n",
        "# display(tortura)\n",
        "\n",
        "#Merge total e exclusão de colunas\n",
        "\n",
        "meio = pd.merge(total_disparo, total_facada, how='outer')\n",
        "meio['Data dos fatos'] = meio['Data dos fatos'].astype(str)\n",
        "agressao_envenenamento = pd.merge(total_agressao, total_envenenamento, how='outer')\n",
        "\n",
        "tortura_asfixia = pd.merge(tortura, asfixias, how='outer')\n",
        "meio_aux = pd.merge(meio, agressao_envenenamento, how='outer')\n",
        "\n",
        "total_meio = pd.merge(meio_aux, tortura_asfixia, how='outer')\n",
        "\n",
        "total_meio = total_meio.drop(columns=['Tribunal',\n",
        "                                      'Motivo do Crime',\n",
        "                                      'Histórico de Violência Doméstica',\n",
        "                                      'Data dos fatos',\n",
        "                                      'Discurso sobre a vítima',\n",
        "                                      'Discurso sobre o agressor',\n",
        "                                      'Discurso de gênero (momento processual)'])\n",
        "\n",
        "total_meio.drop(total_meio.index[[16, 27, 32]], inplace=True)\n",
        "total_meio.loc[36, 'Meio 2'] = 'Envenenamento'\n",
        "total_meio.reset_index(inplace=True)\n",
        "\n",
        "total_meio_aux = total_meio\n",
        "total_meio_aux.reset_index(inplace=True)\n",
        "total_meio_aux = total_meio_aux.drop(columns='index')\n",
        "\n",
        "total_meio_aux = total_meio_aux.append(total_meio.loc[[29,31,33,31,33]])\n",
        "total_meio_aux = total_meio_aux.drop(columns='level_0')\n",
        "total_meio_aux.reset_index(inplace=True)\n",
        "total_meio_aux = total_meio_aux.drop(columns='index')\n",
        "\n",
        "index = total_meio_aux.index\n",
        "for i in index:\n",
        "  if i >= 34:\n",
        "    if i < 37:\n",
        "      total_meio_aux.loc[i, 'Meio'], total_meio_aux.loc[i, 'Meio 1'] = total_meio_aux.loc[i, 'Meio 1'], total_meio_aux.loc[i, 'Meio']\n",
        "    else:\n",
        "      total_meio_aux.loc[i, 'Meio'], total_meio_aux.loc[i, 'Meio 2'] = total_meio_aux.loc[i, 'Meio 2'], total_meio_aux.loc[i, 'Meio']\n",
        "    \n",
        "# display(total_meio_aux.count())\n",
        "\n",
        "\n",
        "plt.figure(figsize=(10,5))\n",
        "plot = sns.countplot(x='Meio', data=total_meio_aux, palette=palette)\n",
        "for i in plot.patches:\n",
        "  plot.annotate(i.get_height(),\n",
        "                (i.get_x() + i.get_width() / 2, i.get_height()),\n",
        "                ha='center',\n",
        "                va='baseline',\n",
        "                fontsize=12,\n",
        "                color='black',\n",
        "                xytext=(0,1),\n",
        "                textcoords='offset points')\n",
        "plot.set_title('Meios')\n",
        "plot.set_ylabel('Quantidade de Casos')\n",
        "\n",
        "# display(total_meio)"
      ],
      "execution_count": null,
      "outputs": [
        {
          "output_type": "stream",
          "text": [
            "/usr/local/lib/python3.7/dist-packages/pandas/core/indexing.py:1763: SettingWithCopyWarning: \n",
            "A value is trying to be set on a copy of a slice from a DataFrame.\n",
            "Try using .loc[row_indexer,col_indexer] = value instead\n",
            "\n",
            "See the caveats in the documentation: https://pandas.pydata.org/pandas-docs/stable/user_guide/indexing.html#returning-a-view-versus-a-copy\n",
            "  isetter(loc, value)\n",
            "/usr/local/lib/python3.7/dist-packages/pandas/core/indexing.py:1763: SettingWithCopyWarning: \n",
            "A value is trying to be set on a copy of a slice from a DataFrame.\n",
            "Try using .loc[row_indexer,col_indexer] = value instead\n",
            "\n",
            "See the caveats in the documentation: https://pandas.pydata.org/pandas-docs/stable/user_guide/indexing.html#returning-a-view-versus-a-copy\n",
            "  isetter(loc, value)\n"
          ],
          "name": "stderr"
        },
        {
          "output_type": "execute_result",
          "data": {
            "text/plain": [
              "Text(0, 0.5, 'Quantidade de Casos')"
            ]
          },
          "metadata": {
            "tags": []
          },
          "execution_count": 15
        },
        {
          "output_type": "display_data",
          "data": {
            "image/png": "[encoded data removed]",
            "text/plain": [
              "<Figure size 720x360 with 1 Axes>"
            ]
          },
          "metadata": {
            "tags": [],
            "needs_background": "light"
          }
        }
      ]
    },
    {
      "cell_type": "markdown",
      "metadata": {
        "id": "eoN7bBqj_qID"
      },
      "source": [
        "**Período dos Fatos**"
      ]
    },
    {
      "cell_type": "code",
      "metadata": {
        "id": "qu6gbxyp_vu8",
        "colab": {
          "base_uri": "https://localhost:8080/",
          "height": 602
        },
        "outputId": "034cf1d3-2ed0-49ab-8277-4c8dddf265ac"
      },
      "source": [
        "periodo = df[['Data dos fatos', 'N.', 'Tribunal']]\n",
        "\n",
        "periodo.drop(index=0, inplace=True)\n",
        "periodo.loc[25] = 1998\n",
        "periodo.loc[29] = 2001\n",
        "periodo.loc[34] = 2002\n",
        "periodo.loc[35] = 2003\n",
        "periodo.loc[25, 'N.'] = 26\n",
        "periodo.loc[29, 'N.'] = 30\n",
        "periodo.loc[34, 'N.'] = 35\n",
        "periodo.loc[35, 'N.'] = 36\n",
        "\n",
        "count = periodo\n",
        "count = periodo.groupby(by='Data dos fatos', sort=True).count()\n",
        "count.rename_axis('Data dos fatos', axis='columns', inplace=True)\n",
        "\n",
        "# display(count)\n",
        "# display(count.index)\n",
        "order = count.index.value_counts(ascending=True)\n",
        "plt.figure(figsize=(10,4))\n",
        "plt.xticks(rotation=70)\n",
        "plot = sns.lineplot(data=count, x=count.index, y='N.', color='brown', marker='o')\n",
        "plot.set_title('Período dos Fatos')\n",
        "plot.set_ylabel('Quantidade de Casos')\n",
        "plot.set_xlabel('Anos')\n",
        "\n"
      ],
      "execution_count": null,
      "outputs": [
        {
          "output_type": "stream",
          "text": [
            "/usr/local/lib/python3.7/dist-packages/pandas/core/frame.py:4174: SettingWithCopyWarning: \n",
            "A value is trying to be set on a copy of a slice from a DataFrame\n",
            "\n",
            "See the caveats in the documentation: https://pandas.pydata.org/pandas-docs/stable/user_guide/indexing.html#returning-a-view-versus-a-copy\n",
            "  errors=errors,\n",
            "/usr/local/lib/python3.7/dist-packages/pandas/core/indexing.py:1763: SettingWithCopyWarning: \n",
            "A value is trying to be set on a copy of a slice from a DataFrame.\n",
            "Try using .loc[row_indexer,col_indexer] = value instead\n",
            "\n",
            "See the caveats in the documentation: https://pandas.pydata.org/pandas-docs/stable/user_guide/indexing.html#returning-a-view-versus-a-copy\n",
            "  isetter(loc, value)\n",
            "/usr/local/lib/python3.7/dist-packages/pandas/core/indexing.py:670: SettingWithCopyWarning: \n",
            "A value is trying to be set on a copy of a slice from a DataFrame\n",
            "\n",
            "See the caveats in the documentation: https://pandas.pydata.org/pandas-docs/stable/user_guide/indexing.html#returning-a-view-versus-a-copy\n",
            "  iloc._setitem_with_indexer(indexer, value)\n"
          ],
          "name": "stderr"
        },
        {
          "output_type": "execute_result",
          "data": {
            "text/plain": [
              "Text(0.5, 0, 'Anos')"
            ]
          },
          "metadata": {
            "tags": []
          },
          "execution_count": 16
        },
        {
          "output_type": "display_data",
          "data": {
            "image/png": "[encoded data removed]",
            "text/plain": [
              "<Figure size 720x288 with 1 Axes>"
            ]
          },
          "metadata": {
            "tags": [],
            "needs_background": "light"
          }
        }
      ]
    },
    {
      "cell_type": "markdown",
      "metadata": {
        "id": "SHmyAkePI5ae"
      },
      "source": [
        "**Instrumento Mais Utilizado**"
      ]
    },
    {
      "cell_type": "code",
      "metadata": {
        "id": "zVjjWfUgpU7r"
      },
      "source": [
        "instrumento = total_meio_aux\n",
        "instrumento = instrumento.drop(columns=['level_0'])\n",
        "instrumento = instrumento.drop(index=[34,35,36,37,38])\n",
        "instrumento.insert(2, 'Instrumento 1', '')\n",
        "instrumento.insert(3, 'Instrumento 2', '')"
      ],
      "execution_count": null,
      "outputs": []
    },
    {
      "cell_type": "code",
      "metadata": {
        "colab": {
          "base_uri": "https://localhost:8080/",
          "height": 461
        },
        "id": "7uNxWjJWJDUc",
        "outputId": "f3e71d75-430b-4c9a-ef83-9f7bfc8a0ff4"
      },
      "source": [
        "instrumento.loc[7, 'Instrumento'] = 'arma de fogo'\n",
        "instrumento.loc[17, 'Instrumento'] = 'faca'\n",
        "instrumento.loc[12, 'Instrumento'] = 'faca'\n",
        "\n",
        "\n",
        "# instrumento 1 -> 25, 26, 28, 31, 32, 33\n",
        "instrumento.loc[25, 'Instrumento'] = 'vara de pescar'\n",
        "instrumento.loc[25, 'Instrumento 1'] = 'botas'\n",
        "instrumento.loc[26, 'Instrumento'] = 'socos'\n",
        "instrumento.loc[26, 'Instrumento 1'] = 'pontapés'\n",
        "instrumento.loc[26, 'Instrumento 2'] = 'martelo'\n",
        "instrumento.loc[28, 'Instrumento'] = 'cabo de vassoura'\n",
        "instrumento.loc[28, 'Instrumento 1'] = 'garrafa de vidro'\n",
        "instrumento.loc[31, 'Instrumento'] = 'diazepan'\n",
        "instrumento.loc[31, 'Instrumento 1'] = 'instrumento contundente'\n",
        "instrumento.loc[31, 'Instrumento 2'] = 'água'\n",
        "instrumento.loc[32, 'Instrumento'] = 'fio elétrico'\n",
        "instrumento.loc[32, 'Instrumento 1'] = 'água'\n",
        "instrumento.loc[33, 'Instrumento'] = 'soda caústica'\n",
        "instrumento.loc[33, 'Instrumento 1'] = 'força bruta'\n",
        "\n",
        "\n",
        "# INSTRUMENTO 1\n",
        "# instrumento = instrumento.append(instrumento.loc[[25,26,28,31,32,33]])\n",
        "# INSTRUMENTO 2\n",
        "# instrumento = instrumento.append(instrumento.loc[[26,31]])\n",
        "\n",
        "# instrumento = instrumento.drop(index=[40,42])\n",
        "\n",
        "# instrumento.reset_index(inplace=True)\n",
        "\n",
        "\n",
        "# INVERSÕES\n",
        "\n",
        "index = instrumento.index\n",
        "for i in index:\n",
        "  if i >= 34:\n",
        "    if i < 40:\n",
        "      instrumento.loc[i, 'Instrumento'], instrumento.loc[i, 'Instrumento 1'] = instrumento.loc[i, 'Instrumento 1'], instrumento.loc[i, 'Instrumento']\n",
        "    else:\n",
        "      instrumento.loc[i, 'Instrumento'], instrumento.loc[i, 'Instrumento 2'] = instrumento.loc[i, 'Instrumento 2'], instrumento.loc[i, 'Instrumento']\n",
        "\n",
        "plt.figure(figsize=(15,5))\n",
        "plt.xticks(rotation=50)\n",
        "plot = sns.countplot(data=instrumento, x='Instrumento', palette=palette)\n",
        "plot.set_title('Insturmentos Mais Utilizados')\n",
        "plot.set_ylabel('Quantidade de Casos')\n",
        "plot.set_xlabel('Instrumentos')\n",
        "\n",
        "# display(instrumento)"
      ],
      "execution_count": null,
      "outputs": [
        {
          "output_type": "execute_result",
          "data": {
            "text/plain": [
              "Text(0.5, 0, 'Instrumentos')"
            ]
          },
          "metadata": {
            "tags": []
          },
          "execution_count": 36
        },
        {
          "output_type": "display_data",
          "data": {
            "image/png": "[encoded data removed]",
            "text/plain": [
              "<Figure size 1080x360 with 1 Axes>"
            ]
          },
          "metadata": {
            "tags": [],
            "needs_background": "light"
          }
        }
      ]
    }
  ]
}